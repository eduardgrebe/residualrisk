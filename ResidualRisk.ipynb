{
 "cells": [
  {
   "cell_type": "markdown",
   "metadata": {},
   "source": [
    "This notebook provides a Python implementation of the Weusten et al. (2011) model for residual risk of HIV transfusion transmission with NAT screening.\n",
    "\n",
    "**Please note: for some reason not all the equations display correctly on Github, but they do display correctly in recent versions of Jupyter or Jupyter Lab.**\n",
    "\n",
    "This code implements a mathematical model for deriving \"risk day equivalents\" (i.e. infectious window period), in the case of nucleic acid screening of blood donations for viruses like HIV, for the purposes of estimating residual risk of transfusion transmission. In this implementation, we assume that the user will have an estimate of incidence in the donor population, which when multiplied by the \"risk day equivalents\" estimate will yield the risk that any given donation will transmit the virus.\n",
    "\n",
    "The model is described in:\n",
    "* Weusten, J., Vermeulen, M., van Drimmelen, H. and Lelie, N. (2011) Refinement of a viral transmission risk model for blood donations in seroconversion window phase screened by nucleic acid testing in different pool sizes and repeat test algorithms. Transfusion, 51: 203-215. doi:[10.1111/j.1537-2995.2010.02804.x](https://doi.org/10.1111/j.1537-2995.2010.02804.x).\n",
    "\n",
    "Code copyright Eduard Grebe <EGrebe@vitalant.org>, 2019. Released under the GNU General Public Licence Version 3.0.\n",
    "\n",
    "#### Suggested citation\n",
    "\n",
    "If you use this code in published research, I suggest citing both the Westen article and this notebook, by means of the DOI on Zenodo:\n",
    "* Grebe, E. (2019) Residual risk of HIV transfusion transmission with NAT screening. Jupyter Notebook version 1.0. doi:[10.5281/zenodo.3588570](https://doi.org/10.5281/zenodo.3588570).\n"
   ]
  },
  {
   "cell_type": "markdown",
   "metadata": {},
   "source": [
    "# Weusten model"
   ]
  },
  {
   "cell_type": "markdown",
   "metadata": {},
   "source": [
    "We use the model of Weusten et al. (2011), which is an improvement on Weusten et al. (2002).\n",
    "\n",
    "The model relies on four basic concepts:\n",
    "\n",
    "1. Probability that a random donor donates during the WP of infection\n",
    "2. The probability that a donor has mounted a certain viral load in the log-linear ramp-up phase of viraemia (depending on doubling time/growth rate)\n",
    "3. The probability that a certain viral concentration is not detected (by NAT)\n",
    "4. The probability that the amount of virus in the released blood component leads to an infection"
   ]
  },
  {
   "cell_type": "markdown",
   "metadata": {},
   "source": [
    "## Parameters"
   ]
  },
  {
   "cell_type": "markdown",
   "metadata": {},
   "source": [
    "Key parameters in the model include:\n",
    "\n",
    "1. 50% infectious dose `N50` (in copies/mL and virions/mL)\n",
    "2. Doubling time or log-growth rate (in log10 copies(/mL)/day) or as viral doubling time (in days)\n",
    "3. Assay 95% LoD\n",
    "4. Assay 50% LoD"
   ]
  },
  {
   "cell_type": "markdown",
   "metadata": {},
   "source": [
    "*Note that we will ignore the Weusten formula based on total visiting repeat donors, IDIs, etc. and use incidence instead*\n",
    "\n",
    "We are therefore leaving out parameters relevant to that calculation, nl. $D_{total}$, $D_{conv}$ and $t_{between}$.\n",
    "\n",
    "Definitions and corresponding variable names:\n",
    "\n",
    "| Symbol       | Python variable           | Description                                                   |\n",
    "| ------------ | ------------------------- | ------------------------------------------------------------- |\n",
    "| $\\lambda$    | `doubling_time`           | Doubling time                                                 |\n",
    "| $\\chi$       | `copies_per_virion`       | Number of RNA copies per virion                               |\n",
    "| $\\Phi(x)$    | `scipy.stats.norm.cdf()`  | Cumulative standard normal                                    |\n",
    "| $C$          | `concentration()` and `C` | Concentration of viral particles in donor blood               |\n",
    "| $C_0$        | `C0`                      | $C$ at $t=0$, i.e. at start of window period                  |\n",
    "| $n$          | `n_copies`                | Number of copies (of viral RNA) **Used?**                     |\n",
    "| $m_{retest}$ | `retests`                 | Number of times a pool initially found reactive is retested   |\n",
    "| $p_v$        | `infectivity_pv`          | Probability that a single viral particle leads to infection   |\n",
    "| $r_{days}$   | `risk_days`               | Overall risk in days, i.e. window period risk day equivalents |\n",
    "| $S_{pool}$   | `pool_size`               | Pool size                                                     |\n",
    "| $t$          | `t`                       | Time (in the window period)                                   |\n",
    "| $V_{trans}$  | `volume_transfused`       | Volume of donor blood used in transfusion                     |\n",
    "| $X_{50}$     | `lod50`                   | Number of copies associated with 50% probability of detection |\n",
    "| $X_{95}$     | `lod95`                   | Number of copies associated with 95% probability of detection |\n",
    "| $z$          | `z`                       | Value defined such that $\\Phi(z)=0.95$, thus $z=1.6449$       |\n"
   ]
  },
  {
   "cell_type": "markdown",
   "metadata": {},
   "source": [
    "## Equations and functions"
   ]
  },
  {
   "cell_type": "code",
   "execution_count": 1,
   "metadata": {},
   "outputs": [],
   "source": [
    "import math\n",
    "import numpy as np\n",
    "import scipy.stats as stats\n",
    "from scipy.integrate import quad\n",
    "import statistics\n",
    "import matplotlib.pyplot as plt"
   ]
  },
  {
   "cell_type": "markdown",
   "metadata": {},
   "source": [
    "Equation A1:\n",
    "\n",
    "$$C(t) = C_0 2^{\\frac{t}{\\lambda}}$$"
   ]
  },
  {
   "cell_type": "code",
   "execution_count": 2,
   "metadata": {},
   "outputs": [],
   "source": [
    "def concentration(C0, doubling_time, t):\n",
    "    concentration = C0 * 2 ** (t/doubling_time)\n",
    "    return concentration"
   ]
  },
  {
   "cell_type": "markdown",
   "metadata": {},
   "source": [
    "Expected number of virions in blood product is a random variable with Poisson distribution, and is a function of viral load/concentration (in virions/mL) in the donor, and the volume transfused, so that \n",
    "\n",
    "Pr(n virions in transfusion product) (A2):\n",
    "\n",
    "$$P_n=\\frac{C \\cdot V_{trans}^n exp(-C \\cdot V_{trans})}{n!}$$\n",
    "\n",
    "and\n",
    "\n",
    "Pr(n virions lead to infection) (A3):\n",
    "\n",
    "$$P_{infection}(n)=1-(1-p_v)^n$$\n",
    "\n",
    "so that total probability that infection develops Pr(infectious) (A4) is:\n",
    "\n",
    "$$P_{infectious} = 1-exp(-C \\cdot V_{trans} \\cdot p_v)$$\n",
    "\n",
    "with $C$ defined in equation A1. (A4 is already simplified in Weusten's derivation.) The same equation can be stated simply in terms of $N$, the expected number of virions in a blood product (Eq 1 in Weusten):\n",
    "\n",
    "$$P_{infectious} = 1-exp(-N \\cdot p_v)$$\n",
    "\n",
    "Note that there is a simple relationship between the 50% infectious dose $ID_{50}$ and $p_v$ can be derived from the previous equation:\n",
    "\n",
    "$$ID_{50} \\cdot p_v = \\ln(2)$$\n",
    "\n",
    "$$p_v = \\frac{\\ln(2)}{ID_{50}}$$\n",
    "\n",
    "This is useful because we have published estimates of infectious dose from animal experiments."
   ]
  },
  {
   "cell_type": "code",
   "execution_count": 3,
   "metadata": {},
   "outputs": [],
   "source": [
    "def infectivity_per_virion(ID50):\n",
    "    pv = math.log(2) / ID50\n",
    "    return pv\n",
    "\n",
    "def prob_infectious(t, C0, doubling_time, volume_transfused, infectivity_pv):\n",
    "    C = concentration(C0, doubling_time, t)\n",
    "    prob = 1 - math.exp(-C * volume_transfused * infectivity_pv)\n",
    "    return prob"
   ]
  },
  {
   "cell_type": "markdown",
   "metadata": {},
   "source": [
    "Probability positive for any one test given $n$ copies per sample (A5):\n",
    "\n",
    "$$P_{+} = \\Phi\\left(z \\frac{\\log_{10}(\\frac{n}{X_{50}})}{\\log_{10}(\\frac{X_{95}}{X_{50}})}\\right)$$\n",
    "\n",
    "Probability of non-detection, where there is initial testing in a pool and then singlicate retesting, is simple:\n",
    "\n",
    "Pr(nondetection) (A6)\n",
    "\n",
    "$$P_{nondetection}= 1 - P_{+,initial} \\cdot (1 - P_{-,retest})$$\n",
    "\n",
    "So we need formulas for each of those probabilities (given in A7 and A9. Note we ignore a regime where the entire pool is retested, and only consider a regime where each individual donation is retested when the pool was found positive (the regime where entire pool is retested is considered in A8 not shown here). (Also remember the concentration $C$ is in /mL or otherwise normalized, and the LoD values are in the same units and take account of input volume. We therefore do not need to consider input volume at all.) (Are we assuming there can be only one positive donation in the pool? Not if $m_{retest}$ correctly captures the number of chances that *each donation/sample* gets to test negative.)\n",
    "\n",
    "$$P_{+,initial} = \\Phi\\left(z \\frac{\\log_{10}\\left(\\frac{\\chi C_0 2^{t/\\lambda}}{S_{pool} X_{50}}\\right)}{\\log_{10}(\\frac{X_{95}}{X_{50}})}\\right)$$\n",
    "\n",
    "$$P_{-,retest} = \\left(1 - \\Phi\\left(z \\frac{\\log_{10}\\left(\\frac{\\chi C_0 2^{t/\\lambda}}{X_{50}}\\right)}{\\log_{10}(\\frac{X_{95}}{X_{50}})}\\right)\\right)^{m_{retest}}$$"
   ]
  },
  {
   "cell_type": "code",
   "execution_count": 4,
   "metadata": {},
   "outputs": [],
   "source": [
    "def prob_pos_init(C,\n",
    "                  doubling_time,\n",
    "                  pool_size,\n",
    "                  lod50,\n",
    "                  lod95,\n",
    "                  z\n",
    "                 ):\n",
    "    if (not isinstance(pool_size, int)) or pool_size < 1:\n",
    "        raise Exception(\"pool_size must be an integer of at least 1\")\n",
    "    \n",
    "    # C is in copies_per_virion, should be \"copies_per_virion * C\" when C in v/mL\n",
    "    X = z * (math.log10(((C) / (pool_size * lod50))) / math.log10((lod95/lod50)))\n",
    "    prob = stats.norm.cdf(X)\n",
    "    return prob\n",
    "\n",
    "def prob_neg_retest(C,\n",
    "                    doubling_time,\n",
    "                    pool_size,\n",
    "                    lod50,\n",
    "                    lod95,\n",
    "                    retests,\n",
    "                    z\n",
    "                   ):\n",
    "    if (not isinstance(pool_size, int)) or pool_size < 1:\n",
    "        raise Exception(\"pool_size must be an integer of at least 1\")\n",
    "        \n",
    "    if (not isinstance(retests, int)) or retests < 0:\n",
    "        raise Exception(\"retests must be a positive integer\")\n",
    "    elif retests == 0:\n",
    "        return 0\n",
    "    elif retests >= 1:\n",
    "        # C is in copies_per_virion, should be \"copies_per_virion * C\" when C in v/mL\n",
    "        X = z * (math.log10(((C) / lod50)) / math.log10((lod95/lod50)))\n",
    "        prob = (1 - stats.norm.cdf(X)) ** retests\n",
    "        return prob\n",
    "\n",
    "def prob_nondetection(t,\n",
    "                      copies_per_virion,\n",
    "                      C0,\n",
    "                      doubling_time,\n",
    "                      pool_size,\n",
    "                      lod50,\n",
    "                      lod95,\n",
    "                      retests,\n",
    "                      z = 1.6449\n",
    "                     ):\n",
    "    Cv = concentration(C0, doubling_time, t)\n",
    "    Cc = copies_per_virion * Cv\n",
    "    p_pos_init = prob_pos_init(Cc, doubling_time, pool_size, lod50, lod95, z)\n",
    "    p_neg_retest = prob_neg_retest(Cc, doubling_time, pool_size, lod50, lod95, retests, z)\n",
    "    prob = 1 - p_pos_init * (1 - p_neg_retest)\n",
    "    return prob\n"
   ]
  },
  {
   "cell_type": "markdown",
   "metadata": {},
   "source": [
    "To get the total risk-day equivalents, we simply need to get the area under the joint probability of infectiousness and non-detection (A10):\n",
    "\n",
    "$$r_{days} = \\int_{-\\infty}^{\\infty} P_{infectious} \\cdot P_{nondetection} dt$$\n",
    "\n",
    "*Note that we call it risk-day equivalents, but really the unit of time is arbitrary and would be whatever you express the doubling time in. Hours or years would work too with exactly the same formula.*"
   ]
  },
  {
   "cell_type": "code",
   "execution_count": 5,
   "metadata": {},
   "outputs": [],
   "source": [
    "def prob_infectious_nondetection(t,\n",
    "                                 copies_per_virion,\n",
    "                                 C0,\n",
    "                                 doubling_time,\n",
    "                                 volume_transfused, \n",
    "                                 infectivity_pv,\n",
    "                                 pool_size,\n",
    "                                 lod50,\n",
    "                                 lod95,\n",
    "                                 retests,\n",
    "                                 z = 1.6449\n",
    "                                ):\n",
    "    product = (prob_infectious(t, C0, doubling_time, volume_transfused, infectivity_pv) * \n",
    "            prob_nondetection(t, copies_per_virion, C0, doubling_time, pool_size,lod50,lod95,retests,z))\n",
    "    return(product)\n",
    "\n",
    "def risk_days(copies_per_virion,\n",
    "              C0,\n",
    "              doubling_time,\n",
    "              volume_transfused, \n",
    "              infectivity_pv,\n",
    "              pool_size,\n",
    "              lod50,\n",
    "              lod95,\n",
    "              retests,\n",
    "              z = 1.6449,\n",
    "              limits = (-100,500)\n",
    "             ):\n",
    "    # Ideally we would integrate from -np.inf to np.inf, but that causes an overflow error, so we choose safe limits instead\n",
    "    rd = quad(prob_infectious_nondetection, limits[0], limits[1], \n",
    "              args=(copies_per_virion,C0,doubling_time,volume_transfused,infectivity_pv,pool_size,lod50,lod95,retests,z))[0]\n",
    "    return rd"
   ]
  },
  {
   "cell_type": "markdown",
   "metadata": {},
   "source": [
    "# Example"
   ]
  },
  {
   "cell_type": "markdown",
   "metadata": {},
   "source": [
    "We will calculate residual risk of HIV transfusion transmission in a demonstrative scenario, where:\n",
    "\n",
    "* All donations are screened with the Procleix Ultrio Plus multiplexed NAT assay \n",
    "    * Initial screening in minipools of 32 samples\n",
    "    * If a pool is positive, each sample is tested once by the same assay and the unit released if negative\n",
    "* The transfused product is \n",
    "    * packed red blood cells, which contain an average of 20mL of plasma or \n",
    "    * fresh frozen plasma with a volume of 200mL\n",
    "* The HIV incidence in the donor population is 20 cases/100,000 person-years"
   ]
  },
  {
   "cell_type": "markdown",
   "metadata": {},
   "source": [
    "## Parameter values\n",
    "\n",
    "We need to set sensible values for all the parameters identified above. Note the following:\n",
    "\n",
    "* HIV is a double-stranded RNA virus, with two copies of RNA per virion.\n",
    "* Following Weusten et al., we are setting the $ID_{50}$ based on the median of the log of copy numbers that infected no and all animals respectively. This is a bit of a stretch – we simply have too little information available to derive a sensible $ID_{50}$ and a plausible range around it. We obtain the numbers used here from Ma et al. (2009).\n",
    "* Weusten at al. mention a \"worst case scenario\" of $p_v=1$, i.e. a single virion present in the transfused product is guaranteed to cause an infection. This is sensible to consider.\n",
    "    * We will additionally assume incidence is 10/100,000PY in the worst-case scenario\n",
    "* Doubling time during the log-linear growth (\"ramp-up\") phase of infection was estimated at 20.5 hours by Fiebig et al. (2003)\n",
    "* Assay limit of detection is usually estimated by probit analysis after testing serial dilutions of an analytic standard, standardized in international units (IU)/mL. The conversion factor between IU/mL and copies/mL is 1.72IU/RNA copy in WHO literature."
   ]
  },
  {
   "cell_type": "code",
   "execution_count": 6,
   "metadata": {},
   "outputs": [],
   "source": [
    "copies_per_virion = 2\n",
    "\n",
    "copies_none_infected = 2 # Ma, Stone et al. (2009)\n",
    "copies_all_infected = 20 # Ma, Stone et al. (2009)\n",
    "ID50c = math.exp(statistics.median([math.log(copies_none_infected), math.log(copies_all_infected)]))\n",
    "ID50v = ID50c / copies_per_virion\n",
    "infectivity_pv = infectivity_per_virion(ID50v)\n",
    "infectivity_pv_worst = 1\n",
    "\n",
    "C0 = 0.00025 # arbitrary and doesn't matter - set to approximately 1 virion / 4L of blood\n",
    "doubling_time = 0.8542 # 20.5/24 Fiebig et al. (2003)\n",
    "volume_transfused_rbc = 20.0 # An Red Blood Cell unit typically includes 20mL of plasma\n",
    "volume_transfused_ffp = 200.0 #A fresh frozen plasma unit is typically 200mL \n",
    "\n",
    "IUs_per_copy = 1.72 # The WHO uses this conversion factor\n",
    "lod50 = 4.7 / IUs_per_copy # Procleix Ultrio Plus analytical sensitivity by Probit analysis (Gen-Probe, 2012, p. 40)\n",
    "lod95 = 21.2 / IUs_per_copy # Procleix Ultrio Plus analytical sensitivity by Probit analysis (Gen-Probe, 2012, p. 40)\n",
    "\n",
    "pool_size = 32\n",
    "retests = 1\n",
    "\n",
    "incidence = 20 / 1e5 # in cases/person-year"
   ]
  },
  {
   "cell_type": "markdown",
   "metadata": {},
   "source": [
    "## Residual transmission risk from RBC transfusions"
   ]
  },
  {
   "cell_type": "markdown",
   "metadata": {},
   "source": [
    "* Risk-day equivalents:"
   ]
  },
  {
   "cell_type": "code",
   "execution_count": 7,
   "metadata": {},
   "outputs": [
    {
     "name": "stdout",
     "output_type": "stream",
     "text": [
      "7.19\n"
     ]
    }
   ],
   "source": [
    "iwp_risk_days_rbc = risk_days(copies_per_virion, C0, doubling_time, volume_transfused_rbc, \n",
    "                              infectivity_pv, pool_size, lod50, lod95, retests)\n",
    "print(round(iwp_risk_days_rbc, 2))\n",
    "iwp_risk_years_rbc = iwp_risk_days_rbc / 365.25"
   ]
  },
  {
   "cell_type": "markdown",
   "metadata": {},
   "source": [
    "* Residual risk point estimate (per million transfusions)"
   ]
  },
  {
   "cell_type": "code",
   "execution_count": 8,
   "metadata": {},
   "outputs": [
    {
     "name": "stdout",
     "output_type": "stream",
     "text": [
      "3.937\n"
     ]
    }
   ],
   "source": [
    "RR_rbc = incidence * iwp_risk_years_rbc * 1e6\n",
    "print(round(RR_rbc, 3))"
   ]
  },
  {
   "cell_type": "markdown",
   "metadata": {},
   "source": [
    "## Residual transmission risk from FFP transfusions"
   ]
  },
  {
   "cell_type": "markdown",
   "metadata": {},
   "source": [
    "* Risk-day equivalents:"
   ]
  },
  {
   "cell_type": "code",
   "execution_count": 9,
   "metadata": {},
   "outputs": [
    {
     "name": "stdout",
     "output_type": "stream",
     "text": [
      "10.03\n"
     ]
    }
   ],
   "source": [
    "iwp_risk_days_ffp = risk_days(copies_per_virion, C0, doubling_time, volume_transfused_ffp, \n",
    "                              infectivity_pv, pool_size, lod50, lod95, retests)\n",
    "print(round(iwp_risk_days_ffp, 2))\n",
    "iwp_risk_years_ffp = iwp_risk_days_ffp / 365.25"
   ]
  },
  {
   "cell_type": "markdown",
   "metadata": {},
   "source": [
    "* Residual risk point estimate (per million transfusions)"
   ]
  },
  {
   "cell_type": "code",
   "execution_count": 10,
   "metadata": {},
   "outputs": [
    {
     "name": "stdout",
     "output_type": "stream",
     "text": [
      "5.491\n"
     ]
    }
   ],
   "source": [
    "RR_ffp = incidence * iwp_risk_years_ffp * 1e6\n",
    "print(round(RR_ffp, 3))"
   ]
  },
  {
   "cell_type": "markdown",
   "metadata": {},
   "source": [
    "## Worst case scenario"
   ]
  },
  {
   "cell_type": "code",
   "execution_count": 11,
   "metadata": {},
   "outputs": [],
   "source": [
    "incidence_wc = 30 / 1e5"
   ]
  },
  {
   "cell_type": "markdown",
   "metadata": {},
   "source": [
    "* RR from RBC transfusions (per million)"
   ]
  },
  {
   "cell_type": "code",
   "execution_count": 12,
   "metadata": {},
   "outputs": [
    {
     "name": "stdout",
     "output_type": "stream",
     "text": [
      "9.06\n",
      "7.442\n"
     ]
    }
   ],
   "source": [
    "iwp_risk_days_rbc = risk_days(copies_per_virion, C0, doubling_time, volume_transfused_rbc, \n",
    "                              infectivity_pv_worst, pool_size, lod50, lod95, retests)\n",
    "print(round(iwp_risk_days_rbc, 2))\n",
    "iwp_risk_years_rbc = iwp_risk_days_rbc / 365.25\n",
    "RR_rbc = incidence_wc * iwp_risk_years_rbc * 1e6\n",
    "print(round(RR_rbc, 3))"
   ]
  },
  {
   "cell_type": "markdown",
   "metadata": {},
   "source": [
    "* RR from FFP transfusions (per million)"
   ]
  },
  {
   "cell_type": "code",
   "execution_count": 13,
   "metadata": {},
   "outputs": [
    {
     "name": "stdout",
     "output_type": "stream",
     "text": [
      "11.9\n",
      "9.773\n"
     ]
    }
   ],
   "source": [
    "iwp_risk_days_ffp = risk_days(copies_per_virion, C0, doubling_time, volume_transfused_ffp, \n",
    "                              infectivity_pv_worst, pool_size, lod50, lod95, retests)\n",
    "print(round(iwp_risk_days_ffp, 2))\n",
    "iwp_risk_years_ffp = iwp_risk_days_ffp / 365.25\n",
    "RR_ffp = incidence_wc * iwp_risk_years_ffp * 1e6\n",
    "print(round(RR_ffp, 3))"
   ]
  },
  {
   "cell_type": "markdown",
   "metadata": {},
   "source": [
    "## Residual risk from RBC transfusions with ID-NAT"
   ]
  },
  {
   "cell_type": "markdown",
   "metadata": {},
   "source": [
    "Let's see the impact of testing each donation individual with NAT (individual donation nucleic acid testing or ID-NAT).\n",
    "\n",
    "*Note: we also assume that no retesting takes place that could result in an initially reactive sample being released.*"
   ]
  },
  {
   "cell_type": "code",
   "execution_count": 14,
   "metadata": {},
   "outputs": [
    {
     "name": "stdout",
     "output_type": "stream",
     "text": [
      "2.95\n",
      "1.613\n"
     ]
    }
   ],
   "source": [
    "pool_size_idnat = 1\n",
    "retests_idnat = 0\n",
    "iwp_risk_days_rbc = risk_days(copies_per_virion, C0, doubling_time, volume_transfused_rbc, \n",
    "                              infectivity_pv, pool_size_idnat, lod50, lod95, retests_idnat)\n",
    "print(round(iwp_risk_days_rbc, 2))\n",
    "iwp_risk_years_rbc = iwp_risk_days_rbc / 365.25\n",
    "RR_rbc = incidence * iwp_risk_years_rbc * 1e6\n",
    "print(round(RR_rbc, 3))"
   ]
  },
  {
   "cell_type": "markdown",
   "metadata": {},
   "source": [
    "## Plot the probability of infection and non-detection and in our example"
   ]
  },
  {
   "cell_type": "markdown",
   "metadata": {},
   "source": [
    "### RBC transfusion with MP32 screening"
   ]
  },
  {
   "cell_type": "markdown",
   "metadata": {},
   "source": [
    "#### Probability of infection"
   ]
  },
  {
   "cell_type": "code",
   "execution_count": 15,
   "metadata": {},
   "outputs": [
    {
     "data": {
      "image/png": "[encoded data removed]",
      "text/plain": [
       "<Figure size 432x288 with 1 Axes>"
      ]
     },
     "metadata": {
      "needs_background": "light"
     },
     "output_type": "display_data"
    }
   ],
   "source": [
    "%matplotlib inline\n",
    "x = np.arange(-5, 25, 0.01)\n",
    "y = []\n",
    "for t in x:\n",
    "    p = prob_infectious(t, C0, doubling_time, volume_transfused_rbc, infectivity_pv)\n",
    "    y.append(p)\n",
    "plt.plot(x, y)\n",
    "plt.show()"
   ]
  },
  {
   "cell_type": "markdown",
   "metadata": {},
   "source": [
    "### Probability of non-detection"
   ]
  },
  {
   "cell_type": "code",
   "execution_count": 16,
   "metadata": {},
   "outputs": [
    {
     "data": {
      "image/png": "[encoded data removed]",
      "text/plain": [
       "<Figure size 432x288 with 1 Axes>"
      ]
     },
     "metadata": {
      "needs_background": "light"
     },
     "output_type": "display_data"
    }
   ],
   "source": [
    "%matplotlib inline\n",
    "x = np.arange(-5, 25, 0.01)\n",
    "y = []\n",
    "for t in x:\n",
    "    p = prob_nondetection(t, copies_per_virion, C0, doubling_time, pool_size, lod50, lod95, retests)\n",
    "    y.append(p)\n",
    "plt.plot(x, y)\n",
    "plt.show()"
   ]
  },
  {
   "cell_type": "markdown",
   "metadata": {},
   "source": [
    "### Probability of infection and non-detection"
   ]
  },
  {
   "cell_type": "code",
   "execution_count": 17,
   "metadata": {},
   "outputs": [
    {
     "data": {
      "image/png": "[encoded data removed]",
      "text/plain": [
       "<Figure size 432x288 with 1 Axes>"
      ]
     },
     "metadata": {
      "needs_background": "light"
     },
     "output_type": "display_data"
    }
   ],
   "source": [
    "%matplotlib inline\n",
    "x = np.arange(-5, 25, 0.01)\n",
    "y = []\n",
    "for t in x:\n",
    "    p = prob_infectious_nondetection(t, copies_per_virion,C0,doubling_time,volume_transfused_rbc,\n",
    "                                     infectivity_pv,pool_size,lod50,lod95,retests)\n",
    "    y.append(p)\n",
    "plt.plot(x, y)\n",
    "plt.show()"
   ]
  },
  {
   "cell_type": "markdown",
   "metadata": {},
   "source": [
    "### FFP transfusion with MP32 screening"
   ]
  },
  {
   "cell_type": "code",
   "execution_count": 20,
   "metadata": {},
   "outputs": [
    {
     "data": {
      "image/png": "[encoded data removed]",
      "text/plain": [
       "<Figure size 432x288 with 1 Axes>"
      ]
     },
     "metadata": {
      "needs_background": "light"
     },
     "output_type": "display_data"
    }
   ],
   "source": [
    "%matplotlib inline\n",
    "x = np.arange(-5, 25, 0.01)\n",
    "y = []\n",
    "for t in x:\n",
    "    p = prob_infectious_nondetection(t, copies_per_virion,C0,doubling_time,volume_transfused_ffp,\n",
    "                                     infectivity_pv,pool_size,lod50,lod95,retests)\n",
    "    y.append(p)\n",
    "plt.plot(x, y)\n",
    "plt.show()"
   ]
  },
  {
   "cell_type": "markdown",
   "metadata": {},
   "source": [
    "### RBC and ID-NAT screening"
   ]
  },
  {
   "cell_type": "markdown",
   "metadata": {},
   "source": [
    "Note: Here we continue to assume that each donation is retested once, and if not repeat-reactive is released."
   ]
  },
  {
   "cell_type": "code",
   "execution_count": 21,
   "metadata": {},
   "outputs": [
    {
     "data": {
      "image/png": "[encoded data removed]",
      "text/plain": [
       "<Figure size 432x288 with 1 Axes>"
      ]
     },
     "metadata": {
      "needs_background": "light"
     },
     "output_type": "display_data"
    }
   ],
   "source": [
    "%matplotlib inline\n",
    "x = np.arange(-5, 25, 0.01)\n",
    "y = []\n",
    "for t in x:\n",
    "    p = prob_infectious_nondetection(t, copies_per_virion,C0,doubling_time,volume_transfused_rbc,\n",
    "                                     infectivity_pv,pool_size_idnat,lod50,lod95,retests_idnat)\n",
    "    y.append(p)\n",
    "plt.plot(x, y)\n",
    "plt.show()"
   ]
  }
 ],
 "metadata": {
  "kernelspec": {
   "display_name": "Python 3",
   "language": "python",
   "name": "python3"
  },
  "language_info": {
   "codemirror_mode": {
    "name": "ipython",
    "version": 3
   },
   "file_extension": ".py",
   "mimetype": "text/x-python",
   "name": "python",
   "nbconvert_exporter": "python",
   "pygments_lexer": "ipython3",
   "version": "3.8.0"
  },
  "pycharm": {
   "stem_cell": {
    "cell_type": "raw",
    "metadata": {
     "collapsed": false
    },
    "source": []
   }
  }
 },
 "nbformat": 4,
 "nbformat_minor": 4
}
