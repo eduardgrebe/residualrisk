{
 "cells": [
  {
   "cell_type": "markdown",
   "metadata": {},
   "source": [
    "# Residual risk of HIV transfusion transmission with NAT screening\n",
    "\n",
    "*Eduard Grebe <EGrebe@vitalant.org>, 17 July 2020*\n",
    "\n",
    "The code in this repository implements a tool for estimating the residual risk \n",
    "of HIV transfusion transmission despite screening of blood donation samples with \n",
    "nucleic acid testing (NAT). The central concepts underlying the approach is the \n",
    "\"infectious window period\" (IWP) and HIV incidence in the donor population -- \n",
    "reflecting the probability that a random donation will be in the infectious \n",
    "window period. The infectious window period is a function of the viral growth \n",
    "rate during early ramp-up viraemia, the sensitivity of the screening assay and \n",
    "the volume transfused. Multiplying the infectious window period by incidence \n",
    "yields the probability (per transfusion) of a transfusion transmission.\n",
    "\n",
    "This \"incidence times window period\" model is well-established and is described \n",
    "in:\n",
    "\n",
    "* Busch MP, Glynn SA, Stramer SL, Strong DM, Caglioti S, Wright DJ, Pappalardo B, Kleinman SH. A new strategy for estimating risks of transfusion-transmitted viral infections based on rates of detection of recently infected donors. Transfusion. 2005;45:254–264. doi:[10.1111/j.1537-2995.2004.04215.x](https://doi.org/10.1111/j.1537-2995.2004.04215.x).\n",
    "\n",
    "Busch et al. presumed infectivity at a concentration of 1 RNA copy/20mL (i.e. \n",
    "the approximate volume of packed red blood cell components). They estimated the \n",
    "window period from presumed infectivity to individual donation NAT (ID-NAT) \n",
    "detection at 5.6 days, and from ID-NAT to minipool NAT (MP-NAT) with minipools \n",
    "of 16 samples at 3.4 days.\n",
    "\n",
    "Their approach was an application of the general logic described Weusten and \n",
    "colleagues in in 2002:\n",
    "\n",
    "* Weusten JJAM, Van Drimmelen HAJ, Lelie PN. Mathematic modeling of the risk of HBV, HCV, and HIV transmission by window-phase donations not detected by NAT. Transfusion. 2002;42:537–548.\n",
    "\n",
    "The same first author led a refinement of this mathematic model published in \n",
    "2011, and on which this implementation draws heavily:\n",
    "\n",
    "* Weusten JJAM, Vermeulen M, Van Drimmelen HAJ, Lelie PN. Refinement of a viral transmission risk model for blood donations in seroconversion window phase screened by nucleic acid testing in different pool sizes and repeat test algorithms. Transfusion. 2011;51:203-215. doi:[10.1111/j.1537-2995.2010.02804.x](https://doi.org/10.1111/j.1537-2995.2010.02804.x).\n",
    "\n",
    "This software tool implementes the same basic logic as the Weusten et al. (2011) \n",
    "model, but diverges from it in the following important ways:\n",
    "\n",
    "1. the probability of a transfusion transmission as a function of time since infection is modeled using a log-linear viral growth model (Fiebig et al., 2003) and an HIV-TT dose response model by Belov et al. (submitted), that was fit to data from a non-human primate SIV transmission study (Ma et al., 2009);\n",
    "2. we are agnostic as to the source of HIV incidence estimates, which are treated as external to the model, rather than relying on repeat donor seroconversion patterns; and\n",
    "3. we provide a method for conducting an uncertainty analysis by specifying distributions around critical model parameters and drawing sets of parameter combinations to produce credible ranges around infectious window period and residual risk estimates.\n",
    "\n",
    "It also draws inspiration from a residual risk estimation tool previously \n",
    "developed and released by Alex Welte, Eduard Grebe and Andrew Powrie as part of \n",
    "an HIV infection dating tool:\n",
    "\n",
    "* Grebe E, Facente SN, Powrie A, Gerber J, Grootboom K, Priede G, Welte A. Infection Dating Tool. Zenodo. 2018. doi:[10.5281/zenodo.1488117](https://doi.org/10.5281/zenodo.1488117).\n",
    "\n",
    "This tool is a work and progress and contributions are encouraged. Enhancements \n",
    "currently contemplated include incorporating enhancements to the underlying \n",
    "model by Jeremy Bingham under the supervision of Alex Welte.\n",
    "\n",
    "## Suggested citation\n",
    "\n",
    "If you use this code in published research, we suggest citing both the Weusten \n",
    "article and this repository, by means of the DOI on Zenodo:\n",
    "\n",
    "* Grebe, E. (2019) Residual risk of HIV transfusion transmission with NAT screening. Version 1.0. doi:[10.5281/zenodo.3588570](https://doi.org/10.5281/zenodo.3588570).\n",
    "\n",
    "## Running\n",
    "\n",
    "This Jupyter notebook requires Python 3 and:\n",
    "\n",
    "* numpy\n",
    "* scipy\n",
    "* jupyterlab (to render the notebook; the classic Jupyter notebook server should also work)\n",
    "* matplotlib (to render the plots in the example)\n",
    "\n",
    "If you use conda, you can set up an environment called `residualrisk` by using the environment specification included with this repository and activate it by executing:\n",
    "\n",
    "```\n",
    "conda env create -f environment.yml\n",
    "conda activate residualrisk\n",
    "```\n",
    "\n",
    "Or you can install the dependencies with pip."
   ]
  },
  {
   "cell_type": "markdown",
   "metadata": {},
   "source": [
    "## Notebook setup"
   ]
  },
  {
   "cell_type": "code",
   "execution_count": 1,
   "metadata": {},
   "outputs": [],
   "source": [
    "import math\n",
    "import multiprocessing as mp\n",
    "import numpy as np\n",
    "import scipy.stats as stats\n",
    "import scipy.integrate as si\n",
    "import matplotlib.pyplot as plt"
   ]
  },
  {
   "cell_type": "markdown",
   "metadata": {},
   "source": [
    "## General approach to residual risk\n",
    "\n",
    "For the purposes of this analysis, residual risk is defined as the probability of transmission to the recipient (per unit transfused). Since sources of risk outside of the early-infection window period (such as laboratory error or that a rare genetic variant of the infectious agent fails to react to all screening assays) are thought to be neglible, the probability that any random unit will be infectious is a function of\n",
    "* the the probability per unit time that any given donor will acquire the infection; and\n",
    "* the length of the infectious window period, i.e. the interval from when a donor (on average) becomes infectious and when (on average) a particular laboratory test becomes reactive.\n",
    "\n",
    "Although in principle disease incidence is distinct from the per-unit time risk of infection that an uninfected at-risk persion would be exposed to, in practice when the incidence is small (such as HIV incidence in blood donors), it is essentially equivalent. So observed HIV incidence of 10 cases per 100,000 person-years in a donor population would equate to a 0.01% probability that any random HIV-uninfected donor becomes infected over a one year period. The risk that a random donor became infected within any given period, e.g. two weeks, prior to donation would be directly proportional to the risk per year, so that in our example the probability that any given donor became infected within the two weeks prior to donation would be $\\frac{2}{52} \\cdot 0.0001 = 0.00038\\%$.\n",
    "\n",
    "In this notebook, and the linked web-based residual risk estimation tool, it is assumed that the user has appropriately estimated incidence in the donor pool. In practice this would usually require relying either solely on data from repeat donors (where prior negative donations allow the direct observation of infection events and exposure time or time 'at risk') or the use of a method for estimating incidence in first-time donors (e.g. biomarkers of 'recent infection') and an appropriately weighted incidence estimate according to the proportion of donations collected from each group of donors. It may also be necessary to adjust incidence to account for the probability that an infectious unit would be interdicted based on the presence of other markers. For example if there are high rates of pre-existing HCV infection in donors who acquire HIV, the risk of HIV transmission would be over-estimated if incidence were not adjusted based appropriately (Kleinman et al., 1997).\n",
    "\n",
    "It is important to account for the fact that material sourced from a newly-infected donor is not immediately infectious, since the infection first has to establish itself and a sufficient viral load be mounted to lead to infection in the recipient. This notebook therefore presents an approach for deriving the length of the 'infectious window period' (IWP) from data on transfusion transmission 'dose response' (i.e. the probability of transmission as a function of the transfused dose) and the sensitivity of the screening assay (i.e. the probability that an infection will fail to be detected as a function of the viral load). \n",
    "\n",
    "The residual risk of transfusion transmission is then simply the product of the infectious window period and incidence (in the same units of time):\n",
    "\n",
    "$$RR = IWP \\cdot \\hat{I}$$\n",
    "\n",
    "or (more accurately) the  IWP (in years) times the annual risk of infection. In our example, an IWP of 7 days would translate to a per-unit residual risk of transfusion transmission of $ \\frac{7}{365.25} \\cdot 0.0001 = 0.00019\\%$ or 1 in 521,786 transfusions."
   ]
  },
  {
   "cell_type": "markdown",
   "metadata": {},
   "source": [
    "## Model for the infectious window period (IWP)"
   ]
  },
  {
   "cell_type": "markdown",
   "metadata": {},
   "source": [
    "We largely rely on the model of Weusten et al. (2011) and the HIV-TT dose-response model of Belov et al. (2020) to derive the infectious window period (called \"risk-day equivalents\" by Weusten et al.). "
   ]
  },
  {
   "cell_type": "markdown",
   "metadata": {},
   "source": [
    "### Parameters"
   ]
  },
  {
   "cell_type": "markdown",
   "metadata": {},
   "source": [
    "Key components of the model are:\n",
    "\n",
    "1. The log-linear viral growth rate (or doubling time) during ramp-up viraemia\n",
    "2. The probability that a certain concentration of virus in the transfused component leads to transmission\n",
    "3. The probability that a certain concentration of viral RNA in the tested sample will fail to be detected by the screening assay(which depends on the screening assay's 50% and 95% limits of detection)\n",
    "4. The testing regime, including whether samples are pooled and the number of retests (e.g. pool resolution testing)\n",
    "\n",
    "The most important parameters of the model are listed below"
   ]
  },
  {
   "cell_type": "markdown",
   "metadata": {},
   "source": [
    "Definitions and corresponding variable names:\n",
    "\n",
    "| Symbol       | Python variable name      | Description                                                   |\n",
    "| ------------ | ------------------------- | ------------------------------------------------------------- |\n",
    "| $k$          | `k`                       | Dose-response parameter                                       |\n",
    "| $\\lambda$    | `doubling_time`           | Doubling time                                                 |\n",
    "| $\\chi$       | `copies_per_virion`       | Number of RNA copies per virion                               |\n",
    "| $\\Phi(x)$    | `scipy.stats.norm.cdf()`  | Cumulative standard normal                                    |\n",
    "| $C$          | `concentration()` and `C` | Concentration of viral particles in donor blood               |\n",
    "| $C_0$        | `C0`                      | $C$ at $t=0$, i.e. at start of window period                  |\n",
    "| $n$          | `n_copies`                | Number of copies (of viral RNA) **Used?**                     |\n",
    "| $m_{retest}$ | `retests`                 | Number of times a pool initially found reactive is retested   |\n",
    "| $r_{days}$   | `risk_days`               | Overall risk in days, i.e. window period risk day equivalents |\n",
    "| $S_{pool}$   | `pool_size`               | Pool size                                                     |\n",
    "| $t$          | `t`                       | Time (in the window period)                                   |\n",
    "| $V_{trans}$  | `volume_transfused`       | Volume of donor blood used in transfusion                     |\n",
    "| $X_{50}$     | `lod50`                   | Number of copies associated with 50% probability of detection |\n",
    "| $X_{95}$     | `lod95`                   | Number of copies associated with 95% probability of detection |\n",
    "| $z$          | `z`                       | Value defined such that $\\Phi(z)=0.95$, thus $z=1.6449$       |\n"
   ]
  },
  {
   "cell_type": "markdown",
   "metadata": {},
   "source": [
    "### Equations and functions"
   ]
  },
  {
   "cell_type": "markdown",
   "metadata": {},
   "source": [
    "The concentration of virions as a function of time since infection is given below (Weusten eq. A1):\n",
    "\n",
    "$$C(t) = C_0 2^{\\frac{t}{\\lambda}}$$\n",
    "\n",
    "with $C_0$ the initial concentration and $\\lambda$ the viral doubling time during the ramp-up phase. The initial concentration, as long as it is low, does not impact the estimation. "
   ]
  },
  {
   "cell_type": "code",
   "execution_count": 2,
   "metadata": {
    "pycharm": {
     "is_executing": false
    }
   },
   "outputs": [],
   "source": [
    "def concentration(C0, doubling_time, t):\n",
    "    concentration = C0 * 2 ** (t / doubling_time)\n",
    "    return concentration"
   ]
  },
  {
   "cell_type": "markdown",
   "metadata": {},
   "source": [
    "We employ the Belov et al. dose-response model to model the probability of an HIV transmission occurring as a function of the total number of RNA copies transfused. This general form can be made applicable to other viruses if appropriate data are available.\n",
    "\n",
    "$$P_{infectious}(n)=1-e^{-kn}$$\n",
    "\n",
    "with $n$ the number of RNA copies in the transfused product, and $k$ the parameter capturing the dose response. We use the maximum a posteriori probability (MAP) estimate reported for $k$ in our analyses, and fit a Gamma distribution to the posterior distribution of $k$ for the uncertainty analysis. Note that we can obtain $n$ for any time post-infection by means of the first equation, the number of copies per virion (denoted $\\chi$, equal to 2 for HIV) and $V_{trans}$, the total volume of plasma transfused:\n",
    "\n",
    "$$n(t) = C(t) \\chi V_{trans}$$\n",
    "\n",
    "so that\n",
    "\n",
    "$$P_{infectious}(t)=1 - \\exp(-k C_0 2^{\\frac{t}{\\lambda}} \\chi V_{trans})$$\n",
    "\n",
    "This is a different formulation from that of Weusten et al., who derive an infectivity per virion."
   ]
  },
  {
   "cell_type": "code",
   "execution_count": 3,
   "metadata": {
    "pycharm": {
     "is_executing": false
    }
   },
   "outputs": [],
   "source": [
    "def prob_infectious_copies(n_copies, k):\n",
    "    prob = 1.000000000001 - math.exp(-k * n_copies)\n",
    "    return prob\n",
    "\n",
    "def prob_infectious(t, \n",
    "                    C0, \n",
    "                    doubling_time, \n",
    "                    volume_transfused, \n",
    "                    k, \n",
    "                    copies_per_virion = 2\n",
    "                   ):\n",
    "    C = concentration(C0, doubling_time, t)\n",
    "    n_copies = C * copies_per_virion * volume_transfused\n",
    "    prob = prob_infectious_copies(n_copies, k)\n",
    "    return prob"
   ]
  },
  {
   "cell_type": "markdown",
   "metadata": {},
   "source": [
    "Following Weusten et al., we parameterized the probability of non-detection in terms of the probability of a positive result in the initial test of the minipool, and the probability of a negative test (resulting in a potential release of the product) upon individual donation resolution of the pool. The total probability of non-detection is given by (Weusten eq. A6):\n",
    "\n",
    "$$P_{nondetection}= 1 - P_{+,initial} \\cdot (1 - P_{-,retest})$$\n",
    "\n",
    "The probability of a positive result for any one test, given $n$ copies in the sample is (Weusten eq. A5):\n",
    "\n",
    "$$P_{+}(n) = \\Phi\\left(z \\frac{\\log_{10}(\\frac{n}{X_{50}})}{\\log_{10}(\\frac{X_{95}}{X_{50}})}\\right)$$\n",
    "\n",
    "with $X_{50}$ the 50% and $X_{50}$ the 95% limits of detection (LoD), $\\Phi$ the cumulative standard normal and $z = 1.6449$ so that $\\Phi(z) = 0.95$. \n",
    "\n",
    "It follows that the probability of an initial positive result is given by (Weusten eq. A7):\n",
    "\n",
    "$$P_{+,initial}(t) = \\Phi\\left(z \\frac{\\log_{10}\\left(\\frac{\\chi C(t)}{S_{pool} X_{50}}\\right)}{\\log_{10}(\\frac{X_{95}}{X_{50}})}\\right)$$\n",
    "\n",
    "with $S_{pool}$ the number of samples pooled for initial testing. \n",
    "\n",
    "Products get released only if (and only if) all retests are negative. In the case of retesting of individual donations separately:\n",
    "\n",
    "$$P_{-,retest}(t) = \\left(1 - \\Phi\\left(z \\frac{\\log_{10}\\left(\\frac{\\chi C(t)}{X_{50}}\\right)}{\\log_{10}(\\frac{X_{95}}{X_{50}})}\\right)\\right)^{m_{retests}}$$\n",
    "\n",
    "with $m_{retests}$ the number of retests. In an alternate regime where the entire pool is subjected to retesting, the pooling dilution would remain relevant and $X_{50}$ would still be multiplied by $S_{pool}$ in the numerator. \n",
    "\n",
    "Also note the following:\n",
    "* The presence of retesting in the algorithm is relevant insofar as a unit can be released despite an initial positive (e.g. an initially positive pool with a negative individual donation result)\n",
    "    * we assume that if multiple retests are performed, all retests must be negative in order for a unit to be released\n",
    "    * the presence of retesting in the algorithm by definition increases risk, since any nonzero probability of unit release after all-negative retests is added to the probability of an initial negative\n",
    "    * however, if retesting is performed, an increase in the number of retests reduces the risk (relative to a single retest)\n",
    "    * the number of retests should only be specified as greater than zero if retesting could result in release. For example, if ID-NAT screening is performed and a unit is automatically interdicted in the case of an initial positive, any retesting performed is not relevant to risk \n",
    "* if a multiplexed NAT assay is used for initial screening, the sensitivity of the relevant discriminatory assay is not relevant, unless the testing algorithm calls for release of the unit in the event that there is a failure to discriminate\n",
    "    * the logic of Weusten et al. given above could be expanded to account for a discriminatory assay with a different detection limit in the event that the testing algorithm renders this relevant\n",
    "    \n",
    "<!-- In Weusten:\n",
    "\n",
    "\\begin{align}\n",
    "P_{nondetection} & = P_{-,initial} + P_{+,initial} \\cdot P_{-,retest} \\\\\n",
    "                 & = 1 - P_{+,initial} + P_{+,initial} \\cdot P_{-,retest} \\\\\n",
    "                 & = 1 - P_{+,initial} \\cdot (1 - P_{-,retest})\n",
    "\\end{align}\n",
    "\n",
    "Using this logic, we could expand the model to account for different sensitivities in the multiplexed screening assay and the virus-specific discriminatory assay in the context of pooling and pool resolution. A negative on the initial screening MPX, or a positive screening MPX and negative pool resolution MPX, or a positive screening MPX, positive resolution MPX, negative ID dHIV, and negative alternate assay MPX. However, in the United States a positive pool resolution MPX result would always result in interdiction, so the possibilities of release are in fact fully enumerated above. In a testing regime where a positive pool resolution does not always result in interdiction, the probability would be given by:\n",
    "\n",
    "\\begin{align}\n",
    "P_{nondetection} & = P_{-,MPXinit} + P_{+,MPXinit} \\cdot P_{-,MPXretest} + P_{+,MPXinit} \\cdot P_{+,MPXretest} \\cdot P_{-,dHIV} \\cdot P_{-,alt}\\\\\n",
    "                 & = 1 - P_{+,MPXinit} + P_{+,MPXinit} \\cdot P_{-,MPXretest} + P_{+,MPXinit} \\cdot P_{+,MPXretest} \\cdot P_{-,dHIV} \\cdot P_{-,alt}\\\\\n",
    "                 & = 1 - P_{+,MPXinit} \\cdot (1 - P_{-,MPXretest} - (1 - P_{-,MPXretest}) \\cdot P_{-,dHIV} \\cdot P_{-,alt})\\\\\n",
    "                 & = 1 - P_{+,MPXinit} \\cdot (1 - P_{-,MPXretest}) \\cdot (1 - P_{-,dHIV} \\cdot P_{-,alt})\n",
    "\\end{align} -->"
   ]
  },
  {
   "cell_type": "code",
   "execution_count": 4,
   "metadata": {
    "pycharm": {
     "is_executing": false
    }
   },
   "outputs": [],
   "source": [
    "def prob_pos_init(C,\n",
    "                  doubling_time,\n",
    "                  pool_size,\n",
    "                  lod50,\n",
    "                  lod95_lod50_ratio,\n",
    "                  z\n",
    "                 ):\n",
    "    if (not isinstance(pool_size, int)) or pool_size < 1:\n",
    "        raise Exception(\"pool_size must be an integer of at least 1\")\n",
    "    # C is in copies copies_per_virion * C when C in virions\n",
    "    X = z * (math.log10(((C) / (pool_size * lod50))) / \n",
    "             math.log10(lod95_lod50_ratio))\n",
    "    prob = stats.norm.cdf(X)\n",
    "    return prob\n",
    "\n",
    "def prob_neg_retest(C,\n",
    "                    doubling_time,\n",
    "                    pool_size,\n",
    "                    lod50,\n",
    "                    lod95_lod50_ratio,\n",
    "                    retests,\n",
    "                    z\n",
    "                   ):\n",
    "    if (not isinstance(pool_size, int)) or pool_size < 1:\n",
    "        raise Exception(\"pool_size must be an integer of at least 1\")\n",
    "    if (not isinstance(retests, int)) or retests < 0:\n",
    "        raise Exception(\"retests must be a positive integer\")\n",
    "    elif retests == 0:\n",
    "        return 0\n",
    "    elif retests >= 1:\n",
    "        # C is in copies copies_per_virion * C when C in virions\n",
    "        X = z * (math.log10(((C) / lod50)) / math.log10(lod95_lod50_ratio))\n",
    "        #print(X)\n",
    "        prob = (1 - stats.norm.cdf(X)) ** retests\n",
    "        return prob\n",
    "\n",
    "def prob_nondetection(t,\n",
    "                      copies_per_virion,\n",
    "                      C0,\n",
    "                      doubling_time,\n",
    "                      pool_size,\n",
    "                      lod50,\n",
    "                      lod95_lod50_ratio,\n",
    "                      retests,\n",
    "                      z = 1.6449\n",
    "                     ):\n",
    "    Cv = concentration(C0, doubling_time, t)\n",
    "    Cc = copies_per_virion * Cv\n",
    "    p_pos_init = prob_pos_init(Cc, doubling_time, pool_size, lod50, \n",
    "                               lod95_lod50_ratio, z)\n",
    "    p_neg_retest = prob_neg_retest(Cc, doubling_time, pool_size, lod50, \n",
    "                                   lod95_lod50_ratio, retests, z)\n",
    "    prob = 1 - p_pos_init * (1 - p_neg_retest)\n",
    "    return prob"
   ]
  },
  {
   "cell_type": "markdown",
   "metadata": {},
   "source": [
    "To get the infectious window period (\"risk-day equivalents\"), we simply need to get the area under the joint probability of infectiousness and non-detection (Weusten et al., eq. A10):\n",
    "\n",
    "$$IWP = \\int_{-\\infty}^{\\infty} P_{infectious}(t) \\cdot P_{nondetection}(t) \\; dt$$"
   ]
  },
  {
   "cell_type": "code",
   "execution_count": 5,
   "metadata": {
    "pycharm": {
     "is_executing": false
    }
   },
   "outputs": [],
   "source": [
    "def prob_infectious_nondetection(t,\n",
    "                                 copies_per_virion,\n",
    "                                 C0,\n",
    "                                 doubling_time,\n",
    "                                 volume_transfused, \n",
    "                                 k,\n",
    "                                 pool_size,\n",
    "                                 lod50,\n",
    "                                 lod95_lod50_ratio,\n",
    "                                 retests,\n",
    "                                 z = 1.6449\n",
    "                                ):\n",
    "    product = (prob_infectious(t, C0, doubling_time, volume_transfused, k) * \n",
    "            prob_nondetection(t, copies_per_virion, C0, doubling_time, \n",
    "                              pool_size,lod50,lod95_lod50_ratio,retests,z))\n",
    "    return(product)\n",
    "\n",
    "def risk_days(copies_per_virion,\n",
    "              C0,\n",
    "              doubling_time,\n",
    "              volume_transfused, \n",
    "              k,\n",
    "              pool_size,\n",
    "              lod50,\n",
    "              lod95_lod50_ratio,\n",
    "              retests,\n",
    "              z = 1.6449,\n",
    "              limits = (-100,500)\n",
    "             ):\n",
    "    # Ideally we would integrate from -np.inf to np.inf, but that causes an \n",
    "    # overflow error, so we choose safe limits instead    \n",
    "    rd = si.quad(prob_infectious_nondetection, limits[0], limits[1], \n",
    "              args=(copies_per_virion, C0, doubling_time, volume_transfused, k, \n",
    "                    pool_size, lod50, lod95_lod50_ratio, retests, z))[0]\n",
    "    return rd"
   ]
  },
  {
   "cell_type": "markdown",
   "metadata": {},
   "source": [
    "## Worst-case IWP"
   ]
  },
  {
   "cell_type": "markdown",
   "metadata": {},
   "source": [
    "If we assume that a single virion in the transfused product is guaranteed to result in infection – analogous to setting Weusten et al.'s $p_v$ parameter (per-virion infectivity) equal to 1, the infectiousness curve would transition stepwise from zero to 1 when the concentration reaches 1 virion per transfused volume. Below we create functions that encode this assumption and that can be used for a worst-case scenario analysis (together with conservative assumptions about detection probabilities)."
   ]
  },
  {
   "cell_type": "code",
   "execution_count": 6,
   "metadata": {},
   "outputs": [],
   "source": [
    "def prob_infectious_copies_wc(n_copies, copies_per_virion = 2):\n",
    "    if n_copies < copies_per_virion:\n",
    "        return 0.0\n",
    "    elif n_copies >= copies_per_virion:\n",
    "        return 1.0\n",
    "    \n",
    "def prob_infectious_wc(t, \n",
    "                       C0, \n",
    "                       doubling_time, \n",
    "                       volume_transfused, \n",
    "                       copies_per_virion = 2\n",
    "                      ):\n",
    "    C = concentration(C0, doubling_time, t)\n",
    "    n_copies = C * copies_per_virion * volume_transfused\n",
    "    prob = prob_infectious_copies_wc(n_copies, copies_per_virion)\n",
    "    return prob\n",
    "\n",
    "def prob_infectious_nondetection_wc(t,\n",
    "                                 copies_per_virion,\n",
    "                                 C0,\n",
    "                                 doubling_time,\n",
    "                                 volume_transfused, \n",
    "                                 pool_size,\n",
    "                                 lod50,\n",
    "                                 lod95_lod50_ratio,\n",
    "                                 retests,\n",
    "                                 z = 1.6449\n",
    "                                ):\n",
    "    product = (prob_infectious_wc(t, C0, doubling_time, volume_transfused) * \n",
    "            prob_nondetection(t, copies_per_virion, C0, doubling_time, \n",
    "                              pool_size,lod50,lod95_lod50_ratio,retests,z))\n",
    "    return(product)\n",
    "\n",
    "def risk_days_wc(copies_per_virion,\n",
    "              C0,\n",
    "              doubling_time,\n",
    "              volume_transfused, \n",
    "              pool_size,\n",
    "              lod50,\n",
    "              lod95_lod50_ratio,\n",
    "              retests,\n",
    "              z = 1.6449,\n",
    "              limits = (-20,100)\n",
    "             ):\n",
    "    # Ideally we would integrate from -np.inf to np.inf, but that causes an \n",
    "    # overflow error, so we choose safe limits instead\n",
    "    rd = si.quad(prob_infectious_nondetection_wc, limits[0], limits[1], \n",
    "              args=(copies_per_virion, C0, doubling_time, volume_transfused, \n",
    "                    pool_size, lod50, lod95_lod50_ratio, retests, z))[0]\n",
    "    return rd"
   ]
  },
  {
   "cell_type": "markdown",
   "metadata": {},
   "source": [
    "## Uncertainty analysis"
   ]
  },
  {
   "cell_type": "markdown",
   "metadata": {},
   "source": [
    "The functions above allow for the estimation of IWP and residual risk point estimates. In order to produce credible intervals, we conduct a bootstrapping analysis in which distributions are specified for each important parameter in the model, and parameters are then drawn from these distributions in each bootstrapping iteration. Note that\n",
    "\n",
    "* the distributions have no meaning in the model, they are merely a way to express beliefs about input parameters\n",
    "* the current implementation does not account for correlated parameters\n",
    "* the distributions chosen may not be entirely appropriate to what is known about the parameters\n",
    "\n",
    "Specifically, we use normal distributions for $\\lambda$ and $X_{50}$, a gamma distribution for $k$ and a uniform distribution for $V_{trans}$. Since $X_{50}$ and $X_{95}$ are derived from a probit analysis and highly correlated, we fix the ratio between the two LoDs and only draw values of $X_{50}$."
   ]
  },
  {
   "cell_type": "markdown",
   "metadata": {},
   "source": [
    "The next function bootstraps from distributions of input parameters and returns an IWP point estimate, credible interval, and the bootstrapped IWP values themselves."
   ]
  },
  {
   "cell_type": "code",
   "execution_count": 7,
   "metadata": {},
   "outputs": [],
   "source": [
    "def iwp_bs(k, \n",
    "           k_gamma_shape, \n",
    "           k_gamma_scale, \n",
    "           doubling_time, \n",
    "           doubling_time_norm_sd, \n",
    "           lod50, \n",
    "           lod50_sd, \n",
    "           lod95_lod50_ratio, \n",
    "           volume_transfused, \n",
    "           volume_transfused_range, \n",
    "           pool_size, \n",
    "           retests, \n",
    "           C0 = 0.00025, \n",
    "           copies_per_virion = 2, \n",
    "           alpha = 0.05, \n",
    "           n_bs = 10000, \n",
    "           seed = 126887\n",
    "          ):\n",
    "    iwp_pe = risk_days(copies_per_virion, C0, doubling_time, volume_transfused, \n",
    "                              k, pool_size, lod50, lod95_lod50_ratio, retests)\n",
    "    np.random.seed(seed)\n",
    "    doubling_time_draws = stats.truncnorm.rvs(0, \n",
    "                                              np.inf, \n",
    "                                              doubling_time, \n",
    "                                              doubling_time_norm_sd, \n",
    "                                              n_bs)\n",
    "    k_draws = np.random.gamma(k_gamma_shape, k_gamma_scale, n_bs)\n",
    "    lod50_draws = stats.truncnorm.rvs(0, np.inf, lod50, lod50_sd, n_bs)\n",
    "    volume_transfused_draws = np.random.uniform(volume_transfused_range[0],\n",
    "                                                volume_transfused_range[1],\n",
    "                                                n_bs)\n",
    "    iwp = []\n",
    "    for i in range(n_bs):\n",
    "        iwp.append(risk_days(copies_per_virion, C0, doubling_time_draws[i], \n",
    "                             volume_transfused_draws[i], k_draws[i], pool_size, \n",
    "                             lod50_draws[i], lod95_lod50_ratio, retests))\n",
    "    iwp_ci = np.quantile(iwp, (alpha/2, 1 - alpha/2))\n",
    "    return (iwp_pe, iwp_ci, iwp)"
   ]
  },
  {
   "cell_type": "markdown",
   "metadata": {},
   "source": [
    "The next function takes bootstrapped IWP values, draws incidence and produces a RR point estimate and credible interval. Incidence values are also drawn from a normal distribution. "
   ]
  },
  {
   "cell_type": "code",
   "execution_count": 8,
   "metadata": {},
   "outputs": [],
   "source": [
    "def residual_risk_iwp(iwp_pe, \n",
    "                      iwp_bs, \n",
    "                      incidence, \n",
    "                      incidence_norm_sd, \n",
    "                      per = 1e6,\n",
    "                      alpha = 0.05,\n",
    "                      seed = 126887):\n",
    "    rr_pe = incidence * iwp_pe / 365.25 * per\n",
    "    n_bs = len(iwp_bs)\n",
    "    np.random.seed(seed)\n",
    "    incidence_draws = stats.truncnorm.rvs(0, np.inf, incidence, \n",
    "                                          incidence_norm_sd, n_bs)\n",
    "    rr = []\n",
    "    for i in range(n_bs):\n",
    "        rr.append(incidence_draws[i] * iwp_bs[i] / 365.25 * per)\n",
    "    rr_ci = np.quantile(rr, (0.025,0.975))\n",
    "    rr_se = np.std(rr)\n",
    "    return (rr_pe, rr_ci, rr_se)"
   ]
  },
  {
   "cell_type": "markdown",
   "metadata": {},
   "source": [
    "This function simply combines the operations for the previous two functions."
   ]
  },
  {
   "cell_type": "code",
   "execution_count": 9,
   "metadata": {},
   "outputs": [],
   "source": [
    "def residual_risk(k, \n",
    "                  k_gamma_shape, \n",
    "                  k_gamma_scale, \n",
    "                  doubling_time, \n",
    "                  doubling_time_norm_sd, \n",
    "                  lod50, \n",
    "                  lod50_sd, \n",
    "                  lod95_lod50_ratio, \n",
    "                  volume_transfused, \n",
    "                  volume_transfused_range, \n",
    "                  pool_size, \n",
    "                  retests, \n",
    "                  incidence, \n",
    "                  incidence_norm_sd, \n",
    "                  C0 = 0.00025, \n",
    "                  copies_per_virion = 2, \n",
    "                  per = 1e6, \n",
    "                  n_bs = 10000, \n",
    "                  seed = 126887\n",
    "                 ):\n",
    "    iwp_pe = risk_days(copies_per_virion, C0, doubling_time, volume_transfused, \n",
    "                              k, pool_size, lod50, lod95_lod50_ratio, retests)\n",
    "    rr_pe = incidence * (iwp_pe / 365.25) * per\n",
    "    if n_bs > 0:\n",
    "        np.random.seed(seed)\n",
    "        doubling_time_draws = stats.truncnorm.rvs(0, np.inf, doubling_time, \n",
    "                                                  doubling_time_norm_sd, n_bs)\n",
    "        volume_transfused_draws = np.random.uniform(volume_transfused_range[0],\n",
    "                                                    volume_transfused_range[1],\n",
    "                                                    n_bs)\n",
    "        k_draws = np.random.gamma(k_gamma_shape, k_gamma_scale, n_bs)\n",
    "        lod50_draws = stats.truncnorm.rvs(0, np.inf, lod50, lod50_sd, n_bs)\n",
    "        incidence_draws = stats.truncnorm.rvs(0, np.inf, incidence, \n",
    "                                              incidence_norm_sd, n_bs)\n",
    "        iwp = []\n",
    "        rr = []\n",
    "        for i in range(n_bs):\n",
    "            #prog = i/n_bs*100\n",
    "            #print('Computing RR [%d%%]\\r'%prog, end=\"\")\n",
    "            iwp.append(risk_days(copies_per_virion, C0, doubling_time_draws[i], \n",
    "                                 volume_transfused_draws[i], k_draws[i], \n",
    "                                 pool_size, lod50_draws[i], lod95_lod50_ratio, \n",
    "                                 retests))\n",
    "            rr.append(incidence_draws[i] * iwp[i] / 365.25 * per)\n",
    "        iwp_ci = np.quantile(iwp, (0.025,0.975))\n",
    "        rr_ci = np.quantile(rr, (0.025,0.975))\n",
    "        rr_se = np.std(rr)\n",
    "        return (iwp_pe, iwp_ci, rr_pe, rr_ci, rr_se)\n",
    "    else:\n",
    "        return (iwp_pe, rr_pe)"
   ]
  },
  {
   "cell_type": "markdown",
   "metadata": {},
   "source": [
    "And finally we create a parallelized version of `iwp_bs()` to improve performance."
   ]
  },
  {
   "cell_type": "code",
   "execution_count": 10,
   "metadata": {},
   "outputs": [],
   "source": [
    "def iwp_bs_par(k, \n",
    "               k_gamma_shape, \n",
    "               k_gamma_scale, \n",
    "               doubling_time, \n",
    "               doubling_time_norm_sd, \n",
    "               lod50, \n",
    "               lod50_sd, \n",
    "               lod95_lod50_ratio, \n",
    "               volume_transfused, \n",
    "               volume_transfused_range, \n",
    "               pool_size, \n",
    "               retests, \n",
    "               C0 = 0.00025, \n",
    "               copies_per_virion = 2, \n",
    "               alpha = 0.05,\n",
    "               n_bs = 10000, \n",
    "               seed = 126887\n",
    "               ):\n",
    "\n",
    "    iwp_pe = risk_days(copies_per_virion, \n",
    "                       C0, \n",
    "                       doubling_time, \n",
    "                       volume_transfused, \n",
    "                       k, \n",
    "                       pool_size, \n",
    "                       lod50, \n",
    "                       lod95_lod50_ratio, \n",
    "                       retests)\n",
    "    np.random.seed(seed)\n",
    "    doubling_time_draws = stats.truncnorm.rvs(0, \n",
    "                                              np.inf, \n",
    "                                              doubling_time, \n",
    "                                              doubling_time_norm_sd, \n",
    "                                              n_bs)\n",
    "    k_draws = np.random.gamma(k_gamma_shape, k_gamma_scale, n_bs)\n",
    "    lod50_draws = stats.truncnorm.rvs(0, np.inf, lod50, lod50_sd, n_bs)\n",
    "    volume_transfused_draws = np.random.uniform(volume_transfused_range[0],\n",
    "                                                volume_transfused_range[1],\n",
    "                                                n_bs)\n",
    "    p = mp.Pool()\n",
    "    result = [p.apply_async(risk_days,\n",
    "                                args=(copies_per_virion,\n",
    "                                  C0,\n",
    "                                  doubling_time_draws[i],\n",
    "                                  volume_transfused_draws[i],\n",
    "                                  k_draws[i],\n",
    "                                  pool_size,\n",
    "                                  lod50_draws[i],\n",
    "                                  lod95_lod50_ratio,\n",
    "                                  retests)\n",
    "                                  ) for i in range(n_bs)]\n",
    "    iwp = [r.get() for r in result]\n",
    "    p.close()\n",
    "    p.join()\n",
    "    iwp_ci = np.quantile(iwp, (alpha/2, 1 - alpha/2))\n",
    "    return (iwp_pe, iwp_ci, iwp)"
   ]
  },
  {
   "cell_type": "markdown",
   "metadata": {},
   "source": [
    "## Example"
   ]
  },
  {
   "cell_type": "markdown",
   "metadata": {},
   "source": [
    "We will calculate residual risk of HIV transfusion transmission in a demonstrative scenario, where:\n",
    "\n",
    "* All donations are screened with the Procleix Ultrio Plus multiplexed NAT assay \n",
    "    * Initial screening in minipools of 16 samples\n",
    "    * If a pool is positive, each sample is tested once by the same assay and the unit released if the retest is negative\n",
    "* The transfused product is packed red blood cells, which contain an average of 20mL of plasma\n",
    "* The HIV incidence in the donor population is 10 cases/100,000 person-years"
   ]
  },
  {
   "cell_type": "markdown",
   "metadata": {},
   "source": [
    "Here are key parameter values and distributions for the uncertainty analysis.\n",
    "\n",
    "| Parameter    | Point estimate         | Distribution                        | Reference(s)                                 |\n",
    "| ------------ | ---------------------- | ----------------------------------- | -------------------------------------------- |\n",
    "| $C_0$        | 0.00025                | fixed                               | Arbitrary number                             |\n",
    "| $\\lambda$    | 0.8542 days            | $\\mathcal{N}(0.8542, 0.00306)$      | Fiebig et al. (2003)                         |\n",
    "| $k$          | 0.02434                | $\\Gamma (3.98547,0.00678)$          | Belov et al. (forthcoming); Ma et al. (2009) |\n",
    "| $X_{50}$     | 2.73 c/mL              | $\\mathcal{N}(2.73, 0.1099802)$      | Gen-Probe (2012)                             |\n",
    "| $X_{95}$     | 12.33 c/mL             | fixed $X_{95}:X_{50}$ ratio         | Gen-Probe (2012)                             |\n",
    "| $V_{trans}$  | 20 mL                  | $\\mathcal{U}(15,50)$                | Bruhn et al. (2013)24; Nguyen et al. (2016)  |\n",
    "| $\\hat{I}$    | $10/10^5$ person-years | $\\mathcal{N}(10,25)$                | N/A                                          |\n"
   ]
  },
  {
   "cell_type": "code",
   "execution_count": 11,
   "metadata": {
    "pycharm": {
     "is_executing": false
    }
   },
   "outputs": [],
   "source": [
    "pool_size = 16\n",
    "retests = 1\n",
    "copies_per_virion = 2\n",
    "C0 = 0.00025\n",
    "doubling_time = 0.8542\n",
    "doubling_time_sigma = math.sqrt(0.00306)\n",
    "k = 0.02434\n",
    "k_shape = 3.98547\n",
    "k_scale = 0.00678\n",
    "lod50 = 2.73\n",
    "lod50_sigma = math.sqrt(0.1099802)\n",
    "lod95_lod50_ratio = 12.33/2.73\n",
    "volume_transfused = 25\n",
    "volume_transfused_range = [15,35]\n",
    "incidence = 10/10e5\n",
    "incidence_sigma = 5/10e5"
   ]
  },
  {
   "cell_type": "markdown",
   "metadata": {},
   "source": [
    "### Infectious Window Period"
   ]
  },
  {
   "cell_type": "markdown",
   "metadata": {},
   "source": [
    "Because multiprocessing seems not to work with functions defined in the notebook, we will import the separate module."
   ]
  },
  {
   "cell_type": "code",
   "execution_count": 12,
   "metadata": {},
   "outputs": [],
   "source": [
    "import residualrisk as rr"
   ]
  },
  {
   "cell_type": "code",
   "execution_count": 13,
   "metadata": {},
   "outputs": [],
   "source": [
    "iwp_pe, iwp_ci, iwp_bs = rr.iwp_bs_par(k, \n",
    "                                    k_shape, \n",
    "                                    k_scale, \n",
    "                                    doubling_time, \n",
    "                                    doubling_time_sigma, \n",
    "                                    lod50, \n",
    "                                    lod50_sigma, \n",
    "                                    lod95_lod50_ratio, \n",
    "                                    volume_transfused,\n",
    "                                    volume_transfused_range,\n",
    "                                    pool_size, \n",
    "                                    retests, \n",
    "                                    C0 = C0, \n",
    "                                    copies_per_virion = copies_per_virion, \n",
    "                                    alpha = 0.05,\n",
    "                                    n_bs = 25000)"
   ]
  },
  {
   "cell_type": "code",
   "execution_count": 14,
   "metadata": {
    "pycharm": {
     "is_executing": false
    }
   },
   "outputs": [
    {
     "name": "stdout",
     "output_type": "stream",
     "text": [
      "4.763 days\n",
      "95% CI: [3.408 6.489]\n"
     ]
    }
   ],
   "source": [
    "print(round(iwp_pe, 3), \"days\")\n",
    "print(\"95% CI:\", np.round_(iwp_ci, 3))"
   ]
  },
  {
   "cell_type": "markdown",
   "metadata": {},
   "source": [
    "### Residual Risk"
   ]
  },
  {
   "cell_type": "code",
   "execution_count": 15,
   "metadata": {},
   "outputs": [],
   "source": [
    "rr_pe, rr_ci, rr_se = rr.residual_risk_iwp(iwp_pe, \n",
    "                                           iwp_bs, \n",
    "                                           incidence, \n",
    "                                           incidence_sigma,\n",
    "                                           per = 1e6\n",
    "                                          )"
   ]
  },
  {
   "cell_type": "code",
   "execution_count": 16,
   "metadata": {},
   "outputs": [
    {
     "name": "stdout",
     "output_type": "stream",
     "text": [
      "0.13 per million units\n",
      "95% CI: [0.11  0.338]\n"
     ]
    }
   ],
   "source": [
    "print(round(rr_pe, 3), \"per million units\")\n",
    "print(\"95% CI:\", np.round_(rr_ci, 3))"
   ]
  },
  {
   "cell_type": "markdown",
   "metadata": {},
   "source": [
    "## \"Infectiousness worst case scenario\" IWP and RR"
   ]
  },
  {
   "cell_type": "code",
   "execution_count": 17,
   "metadata": {
    "pycharm": {
     "is_executing": false
    }
   },
   "outputs": [
    {
     "name": "stdout",
     "output_type": "stream",
     "text": [
      "7.7806993693915425\n"
     ]
    }
   ],
   "source": [
    "iwp_wc = risk_days_wc(copies_per_virion,\n",
    "                      C0,\n",
    "                      doubling_time,\n",
    "                      volume_transfused, \n",
    "                      pool_size,\n",
    "                      lod50,\n",
    "                      lod95_lod50_ratio,\n",
    "                      retests\n",
    "                     )\n",
    "print(iwp_wc)"
   ]
  },
  {
   "cell_type": "code",
   "execution_count": 18,
   "metadata": {},
   "outputs": [
    {
     "name": "stdout",
     "output_type": "stream",
     "text": [
      "0.213 per million units\n"
     ]
    }
   ],
   "source": [
    "rr_wc = iwp_wc / 365.25 * incidence * 1e6\n",
    "print(round(rr_wc, 3), \"per million units\")"
   ]
  },
  {
   "cell_type": "markdown",
   "metadata": {},
   "source": [
    "## Residual risk with ID-NAT"
   ]
  },
  {
   "cell_type": "markdown",
   "metadata": {},
   "source": [
    "Let's see the impact of testing each donation individual with NAT (individual donation nucleic acid testing or ID-NAT).\n",
    "\n",
    "*Note: we also assume that no retesting takes place that could result in an initially reactive sample being released.*"
   ]
  },
  {
   "cell_type": "code",
   "execution_count": 19,
   "metadata": {
    "pycharm": {
     "is_executing": false
    }
   },
   "outputs": [
    {
     "name": "stdout",
     "output_type": "stream",
     "text": [
      "1.572 days\n",
      "0.043 per million units\n",
      "66.99 % reduction in risk\n"
     ]
    }
   ],
   "source": [
    "pool_size_idnat = 1\n",
    "retests_idnat = 0\n",
    "iwp_idnat = risk_days(copies_per_virion,\n",
    "              C0,\n",
    "              doubling_time,\n",
    "              volume_transfused, \n",
    "              k,\n",
    "              pool_size_idnat,\n",
    "              lod50,\n",
    "              lod95_lod50_ratio,\n",
    "              retests_idnat\n",
    "             )\n",
    "rr_idnat = iwp_idnat / 365.25 * incidence * 1e6\n",
    "print(round(iwp_idnat, 3), \"days\")\n",
    "print(round(rr_idnat, 3), \"per million units\")\n",
    "print(round((rr_pe-rr_idnat)/rr_pe*100, 3), \"% reduction in risk\")"
   ]
  },
  {
   "cell_type": "markdown",
   "metadata": {},
   "source": [
    "## Demonstrative plots"
   ]
  },
  {
   "cell_type": "markdown",
   "metadata": {},
   "source": [
    "### HIV TT dose-response model"
   ]
  },
  {
   "cell_type": "code",
   "execution_count": 20,
   "metadata": {
    "pycharm": {
     "is_executing": false
    }
   },
   "outputs": [
    {
     "data": {
      "text/plain": [
       "Text(0, 0.5, 'Probability')"
      ]
     },
     "execution_count": 20,
     "metadata": {},
     "output_type": "execute_result"
    },
    {
     "data": {
      "image/png": "[encoded data removed]",
      "text/plain": [
       "<Figure size 432x288 with 1 Axes>"
      ]
     },
     "metadata": {
      "needs_background": "light"
     },
     "output_type": "display_data"
    }
   ],
   "source": [
    "%matplotlib inline\n",
    "x = np.arange(0, 1000, 0.01)\n",
    "y = []\n",
    "for copies in x:\n",
    "    p = prob_infectious_copies(copies, k = k)\n",
    "    y.append(p)\n",
    "plt.plot(x, y)\n",
    "plt.ylim(top=1.1)\n",
    "plt.xscale(\"log\")\n",
    "plt.xlabel('RNA copies transfused')\n",
    "plt.ylabel('Probability')"
   ]
  },
  {
   "cell_type": "code",
   "execution_count": 21,
   "metadata": {},
   "outputs": [
    {
     "data": {
      "text/plain": [
       "Text(0, 0.5, 'Probability')"
      ]
     },
     "execution_count": 21,
     "metadata": {},
     "output_type": "execute_result"
    },
    {
     "data": {
      "image/png": "[encoded data removed]",
      "text/plain": [
       "<Figure size 432x288 with 1 Axes>"
      ]
     },
     "metadata": {
      "needs_background": "light"
     },
     "output_type": "display_data"
    }
   ],
   "source": [
    "%matplotlib inline\n",
    "x = np.arange(0, 21, 0.01)\n",
    "y = []\n",
    "for t in x:\n",
    "    p = prob_infectious(t, \n",
    "                        C0, \n",
    "                        doubling_time, \n",
    "                        volume_transfused, \n",
    "                        k = k)\n",
    "    y.append(p)\n",
    "plt.plot(x, y)\n",
    "plt.ylim(top=1.1)\n",
    "plt.xlabel('Time')\n",
    "plt.ylabel('Probability')"
   ]
  },
  {
   "cell_type": "markdown",
   "metadata": {},
   "source": [
    "### Probability of non-detection"
   ]
  },
  {
   "cell_type": "code",
   "execution_count": 22,
   "metadata": {
    "pycharm": {
     "is_executing": false
    }
   },
   "outputs": [
    {
     "data": {
      "text/plain": [
       "Text(0, 0.5, 'Probability')"
      ]
     },
     "execution_count": 22,
     "metadata": {},
     "output_type": "execute_result"
    },
    {
     "data": {
      "image/png": "[encoded data removed]",
      "text/plain": [
       "<Figure size 432x288 with 1 Axes>"
      ]
     },
     "metadata": {
      "needs_background": "light"
     },
     "output_type": "display_data"
    }
   ],
   "source": [
    "%matplotlib inline\n",
    "x = np.arange(-5, 25, 0.01)\n",
    "y = []\n",
    "for t in x:\n",
    "    p = prob_nondetection(t, \n",
    "                          copies_per_virion, \n",
    "                          C0, \n",
    "                          doubling_time, \n",
    "                          pool_size, \n",
    "                          lod50, \n",
    "                          lod95_lod50_ratio, \n",
    "                          retests)\n",
    "    y.append(p)\n",
    "plt.plot(x, y)\n",
    "plt.ylim(top=1.1)\n",
    "plt.xlabel('Time')\n",
    "plt.ylabel('Probability')"
   ]
  },
  {
   "cell_type": "markdown",
   "metadata": {},
   "source": [
    "### Probability of infection and non-detection"
   ]
  },
  {
   "cell_type": "code",
   "execution_count": 23,
   "metadata": {
    "pycharm": {
     "is_executing": false
    }
   },
   "outputs": [
    {
     "data": {
      "text/plain": [
       "Text(0, 0.5, 'Probability')"
      ]
     },
     "execution_count": 23,
     "metadata": {},
     "output_type": "execute_result"
    },
    {
     "data": {
      "image/png": "[encoded data removed]",
      "text/plain": [
       "<Figure size 432x288 with 1 Axes>"
      ]
     },
     "metadata": {
      "needs_background": "light"
     },
     "output_type": "display_data"
    }
   ],
   "source": [
    "%matplotlib inline\n",
    "x = np.arange(0, 23, 0.01)\n",
    "y = []\n",
    "inf = []\n",
    "nd = []\n",
    "for t in x:\n",
    "    i = prob_infectious(t, \n",
    "                        C0, \n",
    "                        doubling_time, \n",
    "                        volume_transfused, \n",
    "                        k = k)\n",
    "    inf.append(i)\n",
    "    n = prob_nondetection(t, \n",
    "                          copies_per_virion, \n",
    "                          C0, \n",
    "                          doubling_time, \n",
    "                          pool_size, \n",
    "                          lod50, \n",
    "                          lod95_lod50_ratio, \n",
    "                          retests)\n",
    "    nd.append(n)\n",
    "    p = prob_infectious_nondetection(t, \n",
    "                                     copies_per_virion, \n",
    "                                     C0, \n",
    "                                     doubling_time, \n",
    "                                     volume_transfused, \n",
    "                                     k, \n",
    "                                     pool_size, \n",
    "                                     lod50, \n",
    "                                     lod95_lod50_ratio, \n",
    "                                     retests)\n",
    "    y.append(p)\n",
    "plt.plot(x, inf, '--')\n",
    "plt.plot(x, nd, '--')\n",
    "plt.plot(x, y)\n",
    "plt.fill_between(x, 0, y, alpha = 0.3)\n",
    "plt.ylim(top=1.05)\n",
    "plt.xlabel('Time')\n",
    "plt.ylabel('Probability')"
   ]
  },
  {
   "cell_type": "markdown",
   "metadata": {},
   "source": [
    "### Probability of infection and non-detection (infectiousness worst case)"
   ]
  },
  {
   "cell_type": "code",
   "execution_count": 24,
   "metadata": {},
   "outputs": [
    {
     "data": {
      "text/plain": [
       "Text(0, 0.5, 'Probability')"
      ]
     },
     "execution_count": 24,
     "metadata": {},
     "output_type": "execute_result"
    },
    {
     "data": {
      "image/png": "[encoded data removed]",
      "text/plain": [
       "<Figure size 432x288 with 1 Axes>"
      ]
     },
     "metadata": {
      "needs_background": "light"
     },
     "output_type": "display_data"
    }
   ],
   "source": [
    "%matplotlib inline\n",
    "x = np.arange(0, 23, 0.01)\n",
    "y = []\n",
    "inf = []\n",
    "nd = []\n",
    "for t in x:\n",
    "    i = prob_infectious_wc(t, \n",
    "                        C0, \n",
    "                        doubling_time, \n",
    "                        volume_transfused)\n",
    "    inf.append(i)\n",
    "    n = prob_nondetection(t, \n",
    "                          copies_per_virion, \n",
    "                          C0, \n",
    "                          doubling_time, \n",
    "                          pool_size, \n",
    "                          lod50, \n",
    "                          lod95_lod50_ratio, \n",
    "                          retests)\n",
    "    nd.append(n)\n",
    "    p = prob_infectious_nondetection_wc(t, \n",
    "                                     copies_per_virion, \n",
    "                                     C0, \n",
    "                                     doubling_time, \n",
    "                                     volume_transfused, \n",
    "                                     pool_size, \n",
    "                                     lod50, \n",
    "                                     lod95_lod50_ratio, \n",
    "                                     retests)\n",
    "    y.append(p)\n",
    "plt.plot(x, inf, '--')\n",
    "plt.plot(x, nd, '--')\n",
    "plt.plot(x, y)\n",
    "plt.fill_between(x, 0, y, alpha = 0.3)\n",
    "plt.ylim(top=1.05)\n",
    "plt.xlabel('Time')\n",
    "plt.ylabel('Probability')"
   ]
  },
  {
   "cell_type": "markdown",
   "metadata": {},
   "source": [
    "### Probability of infection and non-detection (ID-NAT)"
   ]
  },
  {
   "cell_type": "code",
   "execution_count": 25,
   "metadata": {},
   "outputs": [
    {
     "data": {
      "text/plain": [
       "Text(0, 0.5, 'Probability')"
      ]
     },
     "execution_count": 25,
     "metadata": {},
     "output_type": "execute_result"
    },
    {
     "data": {
      "image/png": "[encoded data removed]",
      "text/plain": [
       "<Figure size 432x288 with 1 Axes>"
      ]
     },
     "metadata": {
      "needs_background": "light"
     },
     "output_type": "display_data"
    }
   ],
   "source": [
    "%matplotlib inline\n",
    "x = np.arange(0, 23, 0.01)\n",
    "y = []\n",
    "inf = []\n",
    "nd = []\n",
    "for t in x:\n",
    "    i = prob_infectious(t, \n",
    "                        C0, \n",
    "                        doubling_time, \n",
    "                        volume_transfused, \n",
    "                        k = k)\n",
    "    inf.append(i)\n",
    "    n = prob_nondetection(t, \n",
    "                          copies_per_virion, \n",
    "                          C0, \n",
    "                          doubling_time, \n",
    "                          pool_size_idnat, \n",
    "                          lod50, \n",
    "                          lod95_lod50_ratio, \n",
    "                          retests_idnat)\n",
    "    nd.append(n)\n",
    "    p = prob_infectious_nondetection(t, \n",
    "                                     copies_per_virion, \n",
    "                                     C0, \n",
    "                                     doubling_time, \n",
    "                                     volume_transfused, \n",
    "                                     k, \n",
    "                                     pool_size_idnat, \n",
    "                                     lod50, \n",
    "                                     lod95_lod50_ratio, \n",
    "                                     retests_idnat)\n",
    "    y.append(p)\n",
    "plt.plot(x, inf, '--')\n",
    "plt.plot(x, nd, '--')\n",
    "plt.plot(x, y)\n",
    "plt.fill_between(x, 0, y, alpha = 0.3)\n",
    "plt.ylim(top=1.05)\n",
    "plt.xlabel('Time')\n",
    "plt.ylabel('Probability')"
   ]
  }
 ],
 "metadata": {
  "kernelspec": {
   "display_name": "Python 3",
   "language": "python",
   "name": "python3"
  },
  "language_info": {
   "codemirror_mode": {
    "name": "ipython",
    "version": 3
   },
   "file_extension": ".py",
   "mimetype": "text/x-python",
   "name": "python",
   "nbconvert_exporter": "python",
   "pygments_lexer": "ipython3",
   "version": "3.8.4"
  },
  "pycharm": {
   "stem_cell": {
    "cell_type": "raw",
    "metadata": {
     "collapsed": false
    },
    "source": []
   }
  }
 },
 "nbformat": 4,
 "nbformat_minor": 4
}
